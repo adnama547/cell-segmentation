{
 "cells": [
  {
   "cell_type": "markdown",
   "metadata": {},
   "source": [
    "## Making training data sets\n",
    "This ipython notebook provides an interactive overview to the make_training_data.py script that converts annotated images into training data sets. Our starting point is that an image (phase.png and nuclear.png) and its annotation (feature_0.png - edges and feature_1.png - interior) be present in the same folder. Our ending point will be a list of all the pixels from the image that we will sample to create our training data.\n",
    "\n",
    "First lets load all of the python packages that we will need."
   ]
  },
  {
   "cell_type": "code",
   "execution_count": 3,
   "metadata": {
    "scrolled": true
   },
   "outputs": [
    {
     "ename": "ModuleNotFoundError",
     "evalue": "No module named 'theano'",
     "output_type": "error",
     "traceback": [
      "\u001b[0;31m---------------------------------------------------------------------------\u001b[0m",
      "\u001b[0;31mModuleNotFoundError\u001b[0m                       Traceback (most recent call last)",
      "\u001b[0;32m<ipython-input-3-7e1fa25d3b5f>\u001b[0m in \u001b[0;36m<module>\u001b[0;34m()\u001b[0m\n\u001b[1;32m      2\u001b[0m \u001b[0;32mimport\u001b[0m \u001b[0mnumpy\u001b[0m \u001b[0;32mas\u001b[0m \u001b[0mnp\u001b[0m\u001b[0;34m\u001b[0m\u001b[0m\n\u001b[1;32m      3\u001b[0m \u001b[0;32mimport\u001b[0m \u001b[0mmatplotlib\u001b[0m\u001b[0;34m.\u001b[0m\u001b[0mpyplot\u001b[0m \u001b[0;32mas\u001b[0m \u001b[0mplt\u001b[0m\u001b[0;34m\u001b[0m\u001b[0m\n\u001b[0;32m----> 4\u001b[0;31m \u001b[0;32mfrom\u001b[0m \u001b[0mcnn_functions\u001b[0m \u001b[0;32mimport\u001b[0m \u001b[0mformat_coord\u001b[0m \u001b[0;32mas\u001b[0m \u001b[0mcf\u001b[0m\u001b[0;34m\u001b[0m\u001b[0m\n\u001b[0m\u001b[1;32m      5\u001b[0m \u001b[0;32mfrom\u001b[0m \u001b[0mskimage\u001b[0m \u001b[0;32mimport\u001b[0m \u001b[0mmorphology\u001b[0m \u001b[0;32mas\u001b[0m \u001b[0mmorph\u001b[0m\u001b[0;34m\u001b[0m\u001b[0m\n\u001b[1;32m      6\u001b[0m \u001b[0;32mimport\u001b[0m \u001b[0mskimage\u001b[0m \u001b[0;32mas\u001b[0m \u001b[0msk\u001b[0m\u001b[0;34m\u001b[0m\u001b[0m\n",
      "\u001b[0;32m~/DeepCell/keras_version/cnn_functions.py\u001b[0m in \u001b[0;36m<module>\u001b[0;34m()\u001b[0m\n\u001b[1;32m     11\u001b[0m \u001b[0;32mfrom\u001b[0m \u001b[0mnumpy\u001b[0m \u001b[0;32mimport\u001b[0m \u001b[0marray\u001b[0m\u001b[0;34m\u001b[0m\u001b[0m\n\u001b[1;32m     12\u001b[0m \u001b[0;32mimport\u001b[0m \u001b[0mmatplotlib\u001b[0m\u001b[0;34m.\u001b[0m\u001b[0mpyplot\u001b[0m \u001b[0;32mas\u001b[0m \u001b[0mplt\u001b[0m\u001b[0;34m\u001b[0m\u001b[0m\n\u001b[0;32m---> 13\u001b[0;31m \u001b[0;32mimport\u001b[0m \u001b[0mtheano\u001b[0m\u001b[0;34m\u001b[0m\u001b[0m\n\u001b[0m\u001b[1;32m     14\u001b[0m \u001b[0;32mimport\u001b[0m \u001b[0mtheano\u001b[0m\u001b[0;34m.\u001b[0m\u001b[0mtensor\u001b[0m \u001b[0;32mas\u001b[0m \u001b[0mT\u001b[0m\u001b[0;34m\u001b[0m\u001b[0m\n\u001b[1;32m     15\u001b[0m \u001b[0;32mimport\u001b[0m \u001b[0mshelve\u001b[0m\u001b[0;34m\u001b[0m\u001b[0m\n",
      "\u001b[0;31mModuleNotFoundError\u001b[0m: No module named 'theano'"
     ]
    }
   ],
   "source": [
    "%matplotlib inline\n",
    "import numpy as np\n",
    "import matplotlib.pyplot as plt\n",
    "from cnn_functions import format_coord as cf\n",
    "from skimage import morphology as morph\n",
    "import skimage as sk\n",
    "import scipy as sp\n",
    "from scipy import ndimage\n",
    "from skimage import feature\n",
    "from cnn_functions import get_image\n",
    "import glob, os, fnmatch\n",
    "from skimage import io\n",
    "import time\n",
    "import random"
   ]
  },
  {
   "cell_type": "markdown",
   "metadata": {},
   "source": [
    "We first have to define some parameters - the maximum number of training examples we want to sample from the image and the size of the patches sampled from our images. The window_size variables depict the number of pixels sampled from both directions to create one training image. For example, if the window_size is 30, the size of the sampled image will be 2*30+1 = 61 pixels."
   ]
  },
  {
   "cell_type": "code",
   "execution_count": 15,
   "metadata": {},
   "outputs": [
    {
     "name": "stdout",
     "output_type": "stream",
     "text": [
      "(30, 30)\n"
     ]
    }
   ],
   "source": [
    "max_training_examples = 10000000\n",
    "window_size_x = 30\n",
    "window_size_y = 30\n",
    "print(window_size_x, window_size_y)"
   ]
  },
  {
   "cell_type": "markdown",
   "metadata": {},
   "source": [
    "Next we need to define the directories where the training data is located. In this example, we will train on images of 3T3 cells. We've annotated 3 images and would like to use all 3. Note that the channel_names variable contains a list of all the channels that will be loaded. The channel names must be present in the names of the image files for the program to load them."
   ]
  },
  {
   "cell_type": "code",
   "execution_count": 16,
   "metadata": {},
   "outputs": [
    {
     "name": "stdout",
     "output_type": "stream",
     "text": [
      "/home/amandap/data/deepCellData/sets\n",
      "/home/amandap/data/deepCellData/sets/patch_rois/cells\n",
      "/home/amandap/data/deepCellData/training_data_npz/AT22LA_all_61x61.npz\n",
      "/home/amandap/data/deepCellData/sets/patch_rois/cytomasks/\n"
     ]
    }
   ],
   "source": [
    "direc_name = '/home/amandap/data/deepCellData/sets'\n",
    "file_name_save = os.path.join('/home/amandap/data/deepCellData/training_data_npz/', 'AT22LA_all_61x61.npz')\n",
    "patch_name_save = os.path.join(direc_name, 'patch_rois/cells')\n",
    "patch_name_save_temp=os.path.join(direc_name, 'patch_temp/')\n",
    "patch_name_save_mask=os.path.join(direc_name, 'patch_rois/cytomasks/')\n",
    "training_direcs = [\"m05s01set00\", \"m05s01set02\", \"m05s01set04\", \"m05s01set06\", \n",
    "                   \"m05s07set01\", \"m05s07set03\", \"m05s07set05\", \"m05s07set07\", \n",
    "                   \"m54s03set01\", \"m54s03set03\", \"m54s03set05\", \"m54s03set07\", \n",
    "                   \"m54s07set00\", \"m54s07set02\", \"m54s07set04\", \"m54s07set06\"\n",
    "                  ] \n",
    "channel_names = [\"img\", \"nuc\"]\n",
    "print(direc_name)\n",
    "print(patch_name_save)\n",
    "print(file_name_save)\n",
    "print(patch_name_save_mask)"
   ]
  },
  {
   "cell_type": "markdown",
   "metadata": {},
   "source": [
    "We also need to specify the number of features (cell edges and cell interior) that we have annotated. Furthermore, we need to identify which features are edges and whether we want to augment those edges with a dilation operation (https://en.wikipedia.org/wiki/Dilation_%28morphology%29)."
   ]
  },
  {
   "cell_type": "code",
   "execution_count": 17,
   "metadata": {},
   "outputs": [
    {
     "name": "stdout",
     "output_type": "stream",
     "text": [
      "['cyto', 'edge']\n"
     ]
    }
   ],
   "source": [
    "num_of_features = 2\n",
    "feature_names=[\"cyto\", \"edge\"]\n",
    "dil_radius = 1\n",
    "print(feature_names)"
   ]
  },
  {
   "cell_type": "markdown",
   "metadata": {},
   "source": [
    "Next we need to get a list of all the files in the training directories and initialize some variables."
   ]
  },
  {
   "cell_type": "code",
   "execution_count": 18,
   "metadata": {},
   "outputs": [
    {
     "data": {
      "text/plain": [
       "<matplotlib.image.AxesImage at 0xd22bc90>"
      ]
     },
     "execution_count": 18,
     "metadata": {},
     "output_type": "execute_result"
    },
    {
     "data": {
      "image/png": "[encoded data removed]",
      "text/plain": [
       "<matplotlib.figure.Figure at 0x2614b10>"
      ]
     },
     "metadata": {},
     "output_type": "display_data"
    }
   ],
   "source": [
    "num_direcs = len(training_direcs)\n",
    "num_channels = len(channel_names)\n",
    "\n",
    "imglist = []\n",
    "for direc in training_direcs:\n",
    "\timglist += os.listdir(os.path.join(direc_name, direc))\n",
    "\n",
    "# Load one file to get image sizes\n",
    "img_temp = get_image(os.path.join(direc_name,training_direcs[0],imglist[0]))\n",
    "image_size_x, image_size_y = img_temp.shape\n",
    "\n",
    "# Initialize arrays for the training images and the feature masks\n",
    "channels = np.zeros((num_direcs, num_channels, image_size_x, image_size_y), dtype='float32')\n",
    "feature_mask = np.zeros((num_direcs, num_of_features + 1, image_size_x, image_size_y))\n",
    "\n",
    "io.imshow(img_temp)"
   ]
  },
  {
   "cell_type": "markdown",
   "metadata": {},
   "source": [
    "This next block of code is responsible for loading all of the images, normalizing the training data, augmenting the edges by morphological dilation (if chosen) and constructing a feature map for the background."
   ]
  },
  {
   "cell_type": "code",
   "execution_count": 19,
   "metadata": {
    "scrolled": false
   },
   "outputs": [
    {
     "name": "stdout",
     "output_type": "stream",
     "text": [
      "(0.17388391494750977, ' seconds elapsed')\n"
     ]
    }
   ],
   "source": [
    "t=time.time()\n",
    "# Load training images\n",
    "direc_counter = 0\n",
    "for direc in training_direcs:\n",
    "    imglist = os.listdir(os.path.join(direc_name, direc))\n",
    "    channel_counter = 0\n",
    "\n",
    "    # Load channels\n",
    "    for channel in channel_names:\n",
    "        for img in imglist: \n",
    "            if fnmatch.fnmatch(img, r'*' + channel + r'*'):\n",
    "                channel_file = img\n",
    "                channel_file = os.path.join(direc_name, direc, channel_file)\n",
    "                channel_img = get_image(channel_file) \n",
    "            # Normalize the images\n",
    "            '''\n",
    "                if channel == 'img':\n",
    "                    p50 = np.percentile(channel_img, 50)\n",
    "                    channel_img /= p50\n",
    "                    print(p50)\n",
    "                    avg_kernel = np.ones((2*window_size_x + 1, 2*window_size_y + 1))\n",
    "                    channel_img -= ndimage.convolve(channel_img, avg_kernel)/avg_kernel.size\n",
    "                else:\n",
    "                    channel_img /= np.amax(channel_img)\n",
    "                    print(np.amax(channel_img))\n",
    "\n",
    "                channels[direc_counter,channel_counter,:,:] = channel_img\n",
    "                channel_counter += 1\n",
    "                print(channel_counter)\n",
    "            '''\n",
    "\n",
    "                \n",
    "    # Load feature mask\n",
    "    for j in xrange(num_of_features):\n",
    "        feat = feature_names[j]\n",
    "        for img in imglist:\n",
    "            if fnmatch.fnmatch(img, r'*' + feat + r'*'):\n",
    "                feature_file = os.path.join(direc_name, direc, img)\n",
    "                feature_img = get_image(feature_file)\n",
    "                #normalize to 1\n",
    "                '''\n",
    "                if np.sum(feature_img) > 0:\n",
    "                    feature_img /= np.amax(feature_img)\n",
    "                '''\n",
    "                if feat == \"edge\":\n",
    "                    strel = sk.morphology.disk(dil_radius)\n",
    "                    feature_img = sk.morphology.binary_dilation(feature_img, \n",
    "                                                                selem = strel)\n",
    "                feature_mask[direc_counter,j,:,:] = feature_img\n",
    "\n",
    "    # Thin the augmented edges by subtracting the interior features.\n",
    "    for j in xrange(num_of_features):\n",
    "        feat=feature_names[j]\n",
    "        if feat == \"edge\":\n",
    "            for k in xrange(num_of_features):\n",
    "                #featk=feature_names[k]\n",
    "                if feat == \"cyto\":\n",
    "                    feature_mask[direc_counter,j,:,:] -= feature_mask[direc_counter,k,:,:]\n",
    "            feature_mask[direc_counter,j,:,:] = feature_mask[direc_counter,j,:,:] > 0\n",
    "\n",
    "    # Compute the mask for the background\n",
    "    feature_mask_sum = np.sum(feature_mask[direc_counter,:,:,:], axis = 0)\n",
    "    feature_mask[direc_counter,num_of_features,:,:] = 1 - feature_mask_sum\n",
    "    direc_counter += 1\n",
    "\n",
    "print(time.time()-t, ' seconds elapsed')"
   ]
  },
  {
   "cell_type": "markdown",
   "metadata": {},
   "source": [
    "Plot the training data to double check that it's loaded. If you're running the script on a server, this part may need to be commented out in the make_training_data.py script."
   ]
  },
  {
   "cell_type": "code",
   "execution_count": 25,
   "metadata": {},
   "outputs": [
    {
     "data": {
      "image/png": "[encoded data removed]",
      "text/plain": [
       "<matplotlib.figure.Figure at 0x8039fd0>"
      ]
     },
     "metadata": {},
     "output_type": "display_data"
    }
   ],
   "source": [
    "a=range(len(training_direcs))\n",
    "if len(a)>=5:\n",
    "    fig,ax = plt.subplots(1,num_of_features+1, squeeze = False, figsize=(20,10))\n",
    "    for j in xrange(1):\n",
    "        img_num=random.choice(a)\n",
    "        a.remove(img_num)\n",
    "        '''normalize for viewing\n",
    "        channel_img=channels[img_num,0,:,:]\n",
    "        p50 = np.percentile(channel_img, 50)\n",
    "        channel_img /= p50\n",
    "        avg_kernel = np.ones((2*window_size_x + 1, 2*window_size_y + 1))\n",
    "        channel_img -= ndimage.convolve(channel_img, avg_kernel)/avg_kernel.size\n",
    "        '''\n",
    "        ax[j,0].imshow(channels[img_num,0,:,:],\n",
    "                       cmap=plt.cm.gray,\n",
    "                       interpolation='nearest'\n",
    "                      )\n",
    "        def form_coord(x,y):\n",
    "            return cf(x,y,channels[j,0,:,:])\n",
    "        ax[j,0].format_coord = form_coord\n",
    "        ax[j,0].axes.get_xaxis().set_visible(False)\n",
    "        ax[j,0].axes.get_yaxis().set_visible(False)\n",
    "\n",
    "        for k in xrange(1,num_of_features+1):\n",
    "            ax[j,k].imshow(feature_mask[img_num,k-1,:,:],cmap=plt.cm.gray,interpolation='nearest')\n",
    "            def form_coord(x,y):\n",
    "                return cf(x,y,feature_mask[j,k-1,:,:])\n",
    "            ax[j,k].format_coord = form_coord\n",
    "            ax[j,k].axes.get_xaxis().set_visible(False)\n",
    "            ax[j,k].axes.get_yaxis().set_visible(False)\n",
    "else:\n",
    "    fig,ax = plt.subplots(len(training_direcs),num_of_features+1, squeeze = False)\n",
    "    for j in xrange(len(training_direcs)):\n",
    "        ax[j,0].imshow(channels[j,0,:,:],cmap=plt.cm.gray,interpolation='nearest')\n",
    "        def form_coord(x,y):\n",
    "            return cf(x,y,channels[j,0,:,:])\n",
    "        ax[j,0].format_coord = form_coord\n",
    "        ax[j,0].axes.get_xaxis().set_visible(False)\n",
    "        ax[j,0].axes.get_yaxis().set_visible(False)\n",
    "\n",
    "        for k in xrange(1,num_of_features+1):\n",
    "            ax[j,k].imshow(feature_mask[j,k-1,:,:],cmap=plt.cm.gray,interpolation='nearest')\n",
    "            def form_coord(x,y):\n",
    "                return cf(x,y,feature_mask[j,k-1,:,:])\n",
    "            ax[j,k].format_coord = form_coord\n",
    "            ax[j,k].axes.get_xaxis().set_visible(False)\n",
    "            ax[j,k].axes.get_yaxis().set_visible(False)\n",
    "plt.tight_layout()\n",
    "plt.show()"
   ]
  },
  {
   "cell_type": "markdown",
   "metadata": {},
   "source": [
    "We've written this code to sample equally from each training image present. We first identify the feature that has the fewest examples (typically edges) and then we identify which training set has the smallest number of pixels in that feature category. We need to find the training data set with the least number of edge pixels. We then sample that number of pixels from each of the training data sets (if possible)"
   ]
  },
  {
   "cell_type": "code",
   "execution_count": 21,
   "metadata": {},
   "outputs": [
    {
     "data": {
      "text/plain": [
       "<matplotlib.image.AxesImage at 0xad55190>"
      ]
     },
     "execution_count": 21,
     "metadata": {},
     "output_type": "execute_result"
    },
    {
     "data": {
      "image/png": "[encoded data removed]",
      "text/plain": [
       "<matplotlib.figure.Figure at 0x8048a90>"
      ]
     },
     "metadata": {},
     "output_type": "display_data"
    }
   ],
   "source": [
    "img=plt.imread('/home/jacobk/lifeact_data/patches/mask/WellE06_Seq0031t15xy25c1_shift080_2_roi013.png')\n",
    "plt.imshow(img)"
   ]
  },
  {
   "cell_type": "markdown",
   "metadata": {},
   "source": [
    "Once we know how many pixels to sample, we can identify which pixels to sample from the training data. The identity of each pixel requires 3 values - which row (feature_rows), which column (feature_cols) and which training image (feature_batch). The values of all 3 are saved as arrays with the corresponding names."
   ]
  },
  {
   "cell_type": "code",
   "execution_count": 26,
   "metadata": {},
   "outputs": [
    {
     "name": "stdout",
     "output_type": "stream",
     "text": [
      "10\n"
     ]
    }
   ],
   "source": [
    "print(img_num)"
   ]
  },
  {
   "cell_type": "markdown",
   "metadata": {},
   "source": [
    "Finally, we clip the number of training examples so that it is less than the maximum number of allowed training examples. We also randomly shuffle the order of the training examples."
   ]
  },
  {
   "cell_type": "code",
   "execution_count": null,
   "metadata": {},
   "outputs": [],
   "source": []
  },
  {
   "cell_type": "markdown",
   "metadata": {},
   "source": [
    "Finally, lets save the training data as an npz file."
   ]
  },
  {
   "cell_type": "code",
   "execution_count": null,
   "metadata": {},
   "outputs": [],
   "source": []
  },
  {
   "cell_type": "markdown",
   "metadata": {},
   "source": [
    "# save patches to use on @jkimmel's cellsegnet architecture"
   ]
  },
  {
   "cell_type": "code",
   "execution_count": 31,
   "metadata": {},
   "outputs": [],
   "source": [
    "training_data = np.load('/home/amandap/data/deepCellData/training_data_npz/AT22LA_all_61x61_2.npz')\n",
    "channels = training_data[\"channels\"]\n",
    "batch = training_data[\"batch\"]\n",
    "labels = training_data[\"y\"]\n",
    "pixels_x = training_data[\"pixels_x\"]\n",
    "pixels_y = training_data[\"pixels_y\"]\n",
    "win_x = training_data[\"win_x\"]\n",
    "win_y = training_data[\"win_y\"]"
   ]
  },
  {
   "cell_type": "code",
   "execution_count": 32,
   "metadata": {},
   "outputs": [
    {
     "name": "stdout",
     "output_type": "stream",
     "text": [
      "(16, 2, 512, 512)\n",
      "(16, 3, 512, 512)\n",
      "[[   0.    0.    0. ...,    0.    0.    0.]\n",
      " [   0.  255.  255. ...,  255.  255.  255.]\n",
      " [   0.  255.  255. ...,  255.  255.  255.]\n",
      " ..., \n",
      " [   0.  255.  255. ...,    0.    0.    0.]\n",
      " [   0.  255.  255. ...,    0.    0.    0.]\n",
      " [   0.  255.  255. ...,    0.    0.    0.]]\n"
     ]
    },
    {
     "data": {
      "text/plain": [
       "255.0"
      ]
     },
     "execution_count": 32,
     "metadata": {},
     "output_type": "execute_result"
    },
    {
     "data": {
      "image/png": "[encoded data removed]",
      "text/plain": [
       "<matplotlib.figure.Figure at 0xad6b390>"
      ]
     },
     "metadata": {},
     "output_type": "display_data"
    }
   ],
   "source": [
    "print(channels.shape)\n",
    "print(feature_mask.shape)\n",
    "print(feature_mask[0,0])\n",
    "plt.imshow(feature_mask[0, 0, :,:])\n",
    "np.amax(feature_mask[0,0,:,:])"
   ]
  },
  {
   "cell_type": "code",
   "execution_count": 33,
   "metadata": {},
   "outputs": [],
   "source": [
    "for b, x, y, l in zip(batch, pixels_x, pixels_y, labels):\n",
    "    img = channels[b,0, x-win_x:x+win_x+1, y-win_y:y+win_y+1]\n",
    "    #mask=feature_mask[b,0, x-win_x:x+win_x+1, y-win_y:y+win_y+1]\n",
    "    #img=np.arange(61*61).reshape((61,61))\n",
    "    #print(img.shape)\n",
    "    #img=img.astype('i4')\n",
    "    #print(img.dtype)\n",
    "    img_name='Batch%s_X%s_Y%s_L%s.tif'%(b, x, y, l)\n",
    "    file_name=os.path.join(patch_name_save, img_name)\n",
    "    #mask_name='Batch%s_X%s_Y%s_L%s_mask.tif'%(b, x, y, l)\n",
    "    #mask_file=os.path.join(patch_name_save_mask, mask_name)\n",
    "    #print(file_name)\n",
    "    io.imsave(file_name, img)\n",
    "    #io.imsave(mask_file, mask)\n",
    "    #counter+=1\n",
    "    #if counter ==2:\n",
    "    #    break"
   ]
  },
  {
   "cell_type": "code",
   "execution_count": 51,
   "metadata": {},
   "outputs": [
    {
     "name": "stdout",
     "output_type": "stream",
     "text": [
      "430771\n",
      "430771\n",
      "430771\n",
      "/home/amandap/data/deepCellData/sets/patch_rois/cytomasks/Batch2_X112_Y393_L2_mask.tif\n",
      "/home/amandap/data/deepCellData/sets/patch_rois/cells/Batch2_X112_Y393_L2.tif\n",
      "2\n",
      "(2, 112, 393, 2)\n"
     ]
    }
   ],
   "source": [
    "print(counter)\n",
    "print(len(batch))\n",
    "print(len(pixels_x))\n",
    "print(mask_file)\n",
    "print(file_name)\n",
    "\n",
    "print(batch[counter-1])\n",
    "print(b, x, y, l)"
   ]
  },
  {
   "cell_type": "code",
   "execution_count": 52,
   "metadata": {},
   "outputs": [
    {
     "data": {
      "text/plain": [
       "<matplotlib.image.AxesImage at 0x108f7310>"
      ]
     },
     "execution_count": 52,
     "metadata": {},
     "output_type": "execute_result"
    },
    {
     "data": {
      "image/png": "[encoded data removed]",
      "text/plain": [
       "<matplotlib.figure.Figure at 0xa4dca50>"
      ]
     },
     "metadata": {},
     "output_type": "display_data"
    }
   ],
   "source": [
    "img = channels[b,0, x-win_x:x+win_x+1, y-win_y:y+win_y+1]\n",
    "mask=feature_mask[b,0, x-win_x:x+win_x+1, y-win_y:y+win_y+1]\n",
    "plt.subplot(1,2,1)\n",
    "plt.imshow(img)\n",
    "plt.subplot(1,2,2)\n",
    "plt.imshow(mask)"
   ]
  },
  {
   "cell_type": "markdown",
   "metadata": {},
   "source": [
    "## save mask patches"
   ]
  },
  {
   "cell_type": "code",
   "execution_count": 4,
   "metadata": {},
   "outputs": [
    {
     "data": {
      "text/plain": [
       "<matplotlib.image.AxesImage at 0x7f250c0dbeb8>"
      ]
     },
     "execution_count": 4,
     "metadata": {},
     "output_type": "execute_result"
    },
    {
     "data": {
      "image/png": "[encoded data removed]",
      "text/plain": [
       "<matplotlib.figure.Figure at 0x7f250dfb9160>"
      ]
     },
     "metadata": {},
     "output_type": "display_data"
    }
   ],
   "source": [
    "from skimage import io\n",
    "img=io.imread('/home/amandap/data/deepCellData/sets/patch_rois/cells/Batch2_X112_Y393_L2.tif')\n",
    "mask=io.imread('/home/amandap/data/deepCellData/sets/patch_rois/cytomasks/Batch2_X112_Y393_L2_mask.tif')\n",
    "\n",
    "plt.subplot(1,2,1)\n",
    "plt.imshow(img)\n",
    "plt.subplot(1,2,2)\n",
    "plt.imshow(mask)"
   ]
  },
  {
   "cell_type": "code",
   "execution_count": 5,
   "metadata": {},
   "outputs": [
    {
     "data": {
      "text/plain": [
       "array([[ 5.56258106,  4.60163736,  3.68053532, ..., -1.16135049,\n",
       "        -1.28685582, -1.3724556 ],\n",
       "       [ 4.42747879,  4.82911587,  5.62651157, ..., -1.21604657,\n",
       "        -1.24606276, -1.37871552],\n",
       "       [ 4.00222397,  4.25897598,  3.57018423, ..., -1.02189231,\n",
       "        -1.20163155, -1.11007833],\n",
       "       ..., \n",
       "       [ 1.31850946,  0.47054017,  0.37882531, ..., -0.51716769,\n",
       "        -0.25569522, -0.011603  ],\n",
       "       [ 0.41641498,  0.37442994, -0.31291783, ..., -0.25711745,\n",
       "        -0.41455227,  0.62884915],\n",
       "       [ 0.75104237,  0.5145123 , -0.39940596, ...,  0.31838965,\n",
       "         0.24983287, -0.26327336]], dtype=float32)"
      ]
     },
     "execution_count": 5,
     "metadata": {},
     "output_type": "execute_result"
    }
   ],
   "source": [
    "img"
   ]
  },
  {
   "cell_type": "code",
   "execution_count": 6,
   "metadata": {},
   "outputs": [
    {
     "data": {
      "text/plain": [
       "-0.10498257"
      ]
     },
     "execution_count": 6,
     "metadata": {},
     "output_type": "execute_result"
    }
   ],
   "source": [
    "img.mean()"
   ]
  },
  {
   "cell_type": "code",
   "execution_count": null,
   "metadata": {},
   "outputs": [],
   "source": []
  }
 ],
 "metadata": {
  "kernelspec": {
   "display_name": "Python 3",
   "language": "python",
   "name": "python3"
  },
  "language_info": {
   "codemirror_mode": {
    "name": "ipython",
    "version": 3
   },
   "file_extension": ".py",
   "mimetype": "text/x-python",
   "name": "python",
   "nbconvert_exporter": "python",
   "pygments_lexer": "ipython3",
   "version": "3.6.3"
  }
 },
 "nbformat": 4,
 "nbformat_minor": 1
}
